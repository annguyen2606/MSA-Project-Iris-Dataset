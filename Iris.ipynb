{
  "cells": [
    {
      "metadata": {},
      "cell_type": "markdown",
      "source": "Read iris.names file"
    },
    {
      "metadata": {
        "trusted": true
      },
      "cell_type": "code",
      "source": "import pandas as pd\nirisName = open(\"iris.names\",\"r\")\nprint(irisName.read())",
      "execution_count": 20,
      "outputs": [
        {
          "output_type": "stream",
          "text": "1. Title: Iris Plants Database\n\tUpdated Sept 21 by C.Blake - Added discrepency information\n\n2. Sources:\n     (a) Creator: R.A. Fisher\n     (b) Donor: Michael Marshall (MARSHALL%PLU@io.arc.nasa.gov)\n     (c) Date: July, 1988\n\n3. Past Usage:\n   - Publications: too many to mention!!!  Here are a few.\n   1. Fisher,R.A. \"The use of multiple measurements in taxonomic problems\"\n      Annual Eugenics, 7, Part II, 179-188 (1936); also in \"Contributions\n      to Mathematical Statistics\" (John Wiley, NY, 1950).\n   2. Duda,R.O., & Hart,P.E. (1973) Pattern Classification and Scene Analysis.\n      (Q327.D83) John Wiley & Sons.  ISBN 0-471-22361-1.  See page 218.\n   3. Dasarathy, B.V. (1980) \"Nosing Around the Neighborhood: A New System\n      Structure and Classification Rule for Recognition in Partially Exposed\n      Environments\".  IEEE Transactions on Pattern Analysis and Machine\n      Intelligence, Vol. PAMI-2, No. 1, 67-71.\n      -- Results:\n         -- very low misclassification rates (0% for the setosa class)\n   4. Gates, G.W. (1972) \"The Reduced Nearest Neighbor Rule\".  IEEE \n      Transactions on Information Theory, May 1972, 431-433.\n      -- Results:\n         -- very low misclassification rates again\n   5. See also: 1988 MLC Proceedings, 54-64.  Cheeseman et al's AUTOCLASS II\n      conceptual clustering system finds 3 classes in the data.\n\n4. Relevant Information:\n   --- This is perhaps the best known database to be found in the pattern\n       recognition literature.  Fisher's paper is a classic in the field\n       and is referenced frequently to this day.  (See Duda & Hart, for\n       example.)  The data set contains 3 classes of 50 instances each,\n       where each class refers to a type of iris plant.  One class is\n       linearly separable from the other 2; the latter are NOT linearly\n       separable from each other.\n   --- Predicted attribute: class of iris plant.\n   --- This is an exceedingly simple domain.\n   --- This data differs from the data presented in Fishers article\n\t(identified by Steve Chadwick,  spchadwick@espeedaz.net )\n\tThe 35th sample should be: 4.9,3.1,1.5,0.2,\"Iris-setosa\"\n\twhere the error is in the fourth feature.\n\tThe 38th sample: 4.9,3.6,1.4,0.1,\"Iris-setosa\"\n\twhere the errors are in the second and third features.  \n\n5. Number of Instances: 150 (50 in each of three classes)\n\n6. Number of Attributes: 4 numeric, predictive attributes and the class\n\n7. Attribute Information:\n   1. sepal length in cm\n   2. sepal width in cm\n   3. petal length in cm\n   4. petal width in cm\n   5. class: \n      -- Iris Setosa\n      -- Iris Versicolour\n      -- Iris Virginica\n\n8. Missing Attribute Values: None\n\nSummary Statistics:\n\t         Min  Max   Mean    SD   Class Correlation\n   sepal length: 4.3  7.9   5.84  0.83    0.7826   \n    sepal width: 2.0  4.4   3.05  0.43   -0.4194\n   petal length: 1.0  6.9   3.76  1.76    0.9490  (high!)\n    petal width: 0.1  2.5   1.20  0.76    0.9565  (high!)\n\n9. Class Distribution: 33.3% for each of 3 classes.\n\n",
          "name": "stdout"
        }
      ]
    },
    {
      "metadata": {
        "trusted": true
      },
      "cell_type": "markdown",
      "source": "So our dataset which is stored in iris.data has 5 attributes. Attribute 1-4 are numeric which represent length and width of sepal and petal; The 5th attribute is categorical attribute which is the class name of that particular observation. Format of each observation or row is -sepal length- -sepal width- -petal length- -petal width- -class name-. The dataset has 150 rows."
    },
    {
      "metadata": {
        "slideshow": {
          "slide_type": "slide"
        },
        "trusted": true
      },
      "cell_type": "code",
      "source": "irisData = pd.read_csv(\"iris.data\", header = None) #the dataset has no header, so parameter for header assigned as \"None\". This line is to read the iris.data file in csv format without header\nirisData.columns = ['sp_len', 'sp_wid', 'pt_len', 'pt_wid','class'] #add header by an anonymous list of header names\nirisData.head()",
      "execution_count": 21,
      "outputs": [
        {
          "output_type": "execute_result",
          "execution_count": 21,
          "data": {
            "text/html": "<div>\n<style scoped>\n    .dataframe tbody tr th:only-of-type {\n        vertical-align: middle;\n    }\n\n    .dataframe tbody tr th {\n        vertical-align: top;\n    }\n\n    .dataframe thead th {\n        text-align: right;\n    }\n</style>\n<table border=\"1\" class=\"dataframe\">\n  <thead>\n    <tr style=\"text-align: right;\">\n      <th></th>\n      <th>sp_len</th>\n      <th>sp_wid</th>\n      <th>pt_len</th>\n      <th>pt_wid</th>\n      <th>class</th>\n    </tr>\n  </thead>\n  <tbody>\n    <tr>\n      <th>0</th>\n      <td>5.1</td>\n      <td>3.5</td>\n      <td>1.4</td>\n      <td>0.2</td>\n      <td>Iris-setosa</td>\n    </tr>\n    <tr>\n      <th>1</th>\n      <td>4.9</td>\n      <td>3.0</td>\n      <td>1.4</td>\n      <td>0.2</td>\n      <td>Iris-setosa</td>\n    </tr>\n    <tr>\n      <th>2</th>\n      <td>4.7</td>\n      <td>3.2</td>\n      <td>1.3</td>\n      <td>0.2</td>\n      <td>Iris-setosa</td>\n    </tr>\n    <tr>\n      <th>3</th>\n      <td>4.6</td>\n      <td>3.1</td>\n      <td>1.5</td>\n      <td>0.2</td>\n      <td>Iris-setosa</td>\n    </tr>\n    <tr>\n      <th>4</th>\n      <td>5.0</td>\n      <td>3.6</td>\n      <td>1.4</td>\n      <td>0.2</td>\n      <td>Iris-setosa</td>\n    </tr>\n  </tbody>\n</table>\n</div>",
            "text/plain": "   sp_len  sp_wid  pt_len  pt_wid        class\n0     5.1     3.5     1.4     0.2  Iris-setosa\n1     4.9     3.0     1.4     0.2  Iris-setosa\n2     4.7     3.2     1.3     0.2  Iris-setosa\n3     4.6     3.1     1.5     0.2  Iris-setosa\n4     5.0     3.6     1.4     0.2  Iris-setosa"
          },
          "metadata": {}
        }
      ]
    },
    {
      "metadata": {
        "trusted": true
      },
      "cell_type": "code",
      "source": "df = irisData.drop('class', axis = 1) #this to define the dataframe including sp_len, sp_wid, pt_len, pt_wid which are features used to predict the class\ndf.head()",
      "execution_count": 22,
      "outputs": [
        {
          "output_type": "execute_result",
          "execution_count": 22,
          "data": {
            "text/html": "<div>\n<style scoped>\n    .dataframe tbody tr th:only-of-type {\n        vertical-align: middle;\n    }\n\n    .dataframe tbody tr th {\n        vertical-align: top;\n    }\n\n    .dataframe thead th {\n        text-align: right;\n    }\n</style>\n<table border=\"1\" class=\"dataframe\">\n  <thead>\n    <tr style=\"text-align: right;\">\n      <th></th>\n      <th>sp_len</th>\n      <th>sp_wid</th>\n      <th>pt_len</th>\n      <th>pt_wid</th>\n    </tr>\n  </thead>\n  <tbody>\n    <tr>\n      <th>0</th>\n      <td>5.1</td>\n      <td>3.5</td>\n      <td>1.4</td>\n      <td>0.2</td>\n    </tr>\n    <tr>\n      <th>1</th>\n      <td>4.9</td>\n      <td>3.0</td>\n      <td>1.4</td>\n      <td>0.2</td>\n    </tr>\n    <tr>\n      <th>2</th>\n      <td>4.7</td>\n      <td>3.2</td>\n      <td>1.3</td>\n      <td>0.2</td>\n    </tr>\n    <tr>\n      <th>3</th>\n      <td>4.6</td>\n      <td>3.1</td>\n      <td>1.5</td>\n      <td>0.2</td>\n    </tr>\n    <tr>\n      <th>4</th>\n      <td>5.0</td>\n      <td>3.6</td>\n      <td>1.4</td>\n      <td>0.2</td>\n    </tr>\n  </tbody>\n</table>\n</div>",
            "text/plain": "   sp_len  sp_wid  pt_len  pt_wid\n0     5.1     3.5     1.4     0.2\n1     4.9     3.0     1.4     0.2\n2     4.7     3.2     1.3     0.2\n3     4.6     3.1     1.5     0.2\n4     5.0     3.6     1.4     0.2"
          },
          "metadata": {}
        }
      ]
    },
    {
      "metadata": {
        "trusted": true
      },
      "cell_type": "code",
      "source": "import numpy as np\nclassLabel = np.array(irisData['class']) #the class label is list contains of all values of the column named 'class\nprint(classLabel)",
      "execution_count": 24,
      "outputs": [
        {
          "output_type": "stream",
          "text": "['Iris-setosa' 'Iris-setosa' 'Iris-setosa' 'Iris-setosa' 'Iris-setosa'\n 'Iris-setosa' 'Iris-setosa' 'Iris-setosa' 'Iris-setosa' 'Iris-setosa'\n 'Iris-setosa' 'Iris-setosa' 'Iris-setosa' 'Iris-setosa' 'Iris-setosa'\n 'Iris-setosa' 'Iris-setosa' 'Iris-setosa' 'Iris-setosa' 'Iris-setosa'\n 'Iris-setosa' 'Iris-setosa' 'Iris-setosa' 'Iris-setosa' 'Iris-setosa'\n 'Iris-setosa' 'Iris-setosa' 'Iris-setosa' 'Iris-setosa' 'Iris-setosa'\n 'Iris-setosa' 'Iris-setosa' 'Iris-setosa' 'Iris-setosa' 'Iris-setosa'\n 'Iris-setosa' 'Iris-setosa' 'Iris-setosa' 'Iris-setosa' 'Iris-setosa'\n 'Iris-setosa' 'Iris-setosa' 'Iris-setosa' 'Iris-setosa' 'Iris-setosa'\n 'Iris-setosa' 'Iris-setosa' 'Iris-setosa' 'Iris-setosa' 'Iris-setosa'\n 'Iris-versicolor' 'Iris-versicolor' 'Iris-versicolor' 'Iris-versicolor'\n 'Iris-versicolor' 'Iris-versicolor' 'Iris-versicolor' 'Iris-versicolor'\n 'Iris-versicolor' 'Iris-versicolor' 'Iris-versicolor' 'Iris-versicolor'\n 'Iris-versicolor' 'Iris-versicolor' 'Iris-versicolor' 'Iris-versicolor'\n 'Iris-versicolor' 'Iris-versicolor' 'Iris-versicolor' 'Iris-versicolor'\n 'Iris-versicolor' 'Iris-versicolor' 'Iris-versicolor' 'Iris-versicolor'\n 'Iris-versicolor' 'Iris-versicolor' 'Iris-versicolor' 'Iris-versicolor'\n 'Iris-versicolor' 'Iris-versicolor' 'Iris-versicolor' 'Iris-versicolor'\n 'Iris-versicolor' 'Iris-versicolor' 'Iris-versicolor' 'Iris-versicolor'\n 'Iris-versicolor' 'Iris-versicolor' 'Iris-versicolor' 'Iris-versicolor'\n 'Iris-versicolor' 'Iris-versicolor' 'Iris-versicolor' 'Iris-versicolor'\n 'Iris-versicolor' 'Iris-versicolor' 'Iris-versicolor' 'Iris-versicolor'\n 'Iris-versicolor' 'Iris-versicolor' 'Iris-virginica' 'Iris-virginica'\n 'Iris-virginica' 'Iris-virginica' 'Iris-virginica' 'Iris-virginica'\n 'Iris-virginica' 'Iris-virginica' 'Iris-virginica' 'Iris-virginica'\n 'Iris-virginica' 'Iris-virginica' 'Iris-virginica' 'Iris-virginica'\n 'Iris-virginica' 'Iris-virginica' 'Iris-virginica' 'Iris-virginica'\n 'Iris-virginica' 'Iris-virginica' 'Iris-virginica' 'Iris-virginica'\n 'Iris-virginica' 'Iris-virginica' 'Iris-virginica' 'Iris-virginica'\n 'Iris-virginica' 'Iris-virginica' 'Iris-virginica' 'Iris-virginica'\n 'Iris-virginica' 'Iris-virginica' 'Iris-virginica' 'Iris-virginica'\n 'Iris-virginica' 'Iris-virginica' 'Iris-virginica' 'Iris-virginica'\n 'Iris-virginica' 'Iris-virginica' 'Iris-virginica' 'Iris-virginica'\n 'Iris-virginica' 'Iris-virginica' 'Iris-virginica' 'Iris-virginica'\n 'Iris-virginica' 'Iris-virginica' 'Iris-virginica' 'Iris-virginica']\n",
          "name": "stdout"
        }
      ]
    },
    {
      "metadata": {
        "trusted": true
      },
      "cell_type": "code",
      "source": "from sklearn.preprocessing import OneHotEncoder\nnewHeaders = OneHotEncoder(sparse = True).fit_transform(np.transpose([classLabel])) #declare sparse matrix in which columns 0, 1, 2 are 'Iris-setosa', 'Iris-versicolor', 'Iris-virginica' responsively \nprint(newHeaders)",
      "execution_count": 31,
      "outputs": [
        {
          "output_type": "stream",
          "text": "  (0, 0)\t1.0\n  (1, 0)\t1.0\n  (2, 0)\t1.0\n  (3, 0)\t1.0\n  (4, 0)\t1.0\n  (5, 0)\t1.0\n  (6, 0)\t1.0\n  (7, 0)\t1.0\n  (8, 0)\t1.0\n  (9, 0)\t1.0\n  (10, 0)\t1.0\n  (11, 0)\t1.0\n  (12, 0)\t1.0\n  (13, 0)\t1.0\n  (14, 0)\t1.0\n  (15, 0)\t1.0\n  (16, 0)\t1.0\n  (17, 0)\t1.0\n  (18, 0)\t1.0\n  (19, 0)\t1.0\n  (20, 0)\t1.0\n  (21, 0)\t1.0\n  (22, 0)\t1.0\n  (23, 0)\t1.0\n  (24, 0)\t1.0\n  :\t:\n  (125, 2)\t1.0\n  (126, 2)\t1.0\n  (127, 2)\t1.0\n  (128, 2)\t1.0\n  (129, 2)\t1.0\n  (130, 2)\t1.0\n  (131, 2)\t1.0\n  (132, 2)\t1.0\n  (133, 2)\t1.0\n  (134, 2)\t1.0\n  (135, 2)\t1.0\n  (136, 2)\t1.0\n  (137, 2)\t1.0\n  (138, 2)\t1.0\n  (139, 2)\t1.0\n  (140, 2)\t1.0\n  (141, 2)\t1.0\n  (142, 2)\t1.0\n  (143, 2)\t1.0\n  (144, 2)\t1.0\n  (145, 2)\t1.0\n  (146, 2)\t1.0\n  (147, 2)\t1.0\n  (148, 2)\t1.0\n  (149, 2)\t1.0\n",
          "name": "stdout"
        }
      ]
    },
    {
      "metadata": {},
      "cell_type": "markdown",
      "source": "We use the reat 80:20 in which 80 for training set and 20 for testing set"
    },
    {
      "metadata": {
        "trusted": true
      },
      "cell_type": "code",
      "source": "import sklearn\nfrom sklearn.model_selection import train_test_split\nnp.random.seed(0) #set fixed randomised seed\ntrain_x, test_x, train_y, test_y = sklearn.model_selection.train_test_split(df, newHeaders, test_size = 0.2, train_size = 0.8, random_state = 6) # split data pool into train set and test set by sklearn.\n",
      "execution_count": 59,
      "outputs": [
        {
          "output_type": "stream",
          "text": "     sp_len  sp_wid  pt_len  pt_wid\n4       5.0     3.6     1.4     0.2\n116     6.5     3.0     5.5     1.8\n2       4.7     3.2     1.3     0.2\n23      5.1     3.3     1.7     0.5\n123     6.3     2.7     4.9     1.8\n96      5.7     2.9     4.2     1.3\n134     6.1     2.6     5.6     1.4\n39      5.1     3.4     1.5     0.2\n137     6.4     3.1     5.5     1.8\n53      5.5     2.3     4.0     1.3\n127     6.1     3.0     4.9     1.8\n81      5.5     2.4     3.7     1.0\n115     6.4     3.2     5.3     2.3\n135     7.7     3.0     6.1     2.3\n74      6.4     2.9     4.3     1.3\n119     6.0     2.2     5.0     1.5\n105     7.6     3.0     6.6     2.1\n51      6.4     3.2     4.5     1.5\n92      5.8     2.6     4.0     1.2\n32      5.2     4.1     1.5     0.1\n37      4.9     3.1     1.5     0.1\n120     6.9     3.2     5.7     2.3\n44      5.1     3.8     1.9     0.4\n0       5.1     3.5     1.4     0.2\n55      5.7     2.8     4.5     1.3\n72      6.3     2.5     4.9     1.5\n87      6.3     2.3     4.4     1.3\n102     7.1     3.0     5.9     2.1\n30      4.8     3.1     1.6     0.2\n93      5.0     2.3     3.3     1.0\n  (0, 0)\t1.0\n  (1, 2)\t1.0\n  (2, 0)\t1.0\n  (3, 0)\t1.0\n  (4, 2)\t1.0\n  (5, 1)\t1.0\n  (6, 2)\t1.0\n  (7, 0)\t1.0\n  (8, 2)\t1.0\n  (9, 1)\t1.0\n  (10, 2)\t1.0\n  (11, 1)\t1.0\n  (12, 2)\t1.0\n  (13, 2)\t1.0\n  (14, 1)\t1.0\n  (15, 2)\t1.0\n  (16, 2)\t1.0\n  (17, 1)\t1.0\n  (18, 1)\t1.0\n  (19, 0)\t1.0\n  (20, 0)\t1.0\n  (21, 2)\t1.0\n  (22, 0)\t1.0\n  (23, 0)\t1.0\n  (24, 1)\t1.0\n  (25, 1)\t1.0\n  (26, 1)\t1.0\n  (27, 2)\t1.0\n  (28, 0)\t1.0\n  (29, 1)\t1.0\n",
          "name": "stdout"
        }
      ]
    },
    {
      "metadata": {
        "trusted": true
      },
      "cell_type": "code",
      "source": "rd = numpy.random.seed",
      "execution_count": null,
      "outputs": []
    }
  ],
  "metadata": {
    "kernelspec": {
      "name": "python36",
      "display_name": "Python 3.6",
      "language": "python"
    },
    "language_info": {
      "mimetype": "text/x-python",
      "nbconvert_exporter": "python",
      "name": "python",
      "pygments_lexer": "ipython3",
      "version": "3.6.6",
      "file_extension": ".py",
      "codemirror_mode": {
        "version": 3,
        "name": "ipython"
      }
    }
  },
  "nbformat": 4,
  "nbformat_minor": 2
}